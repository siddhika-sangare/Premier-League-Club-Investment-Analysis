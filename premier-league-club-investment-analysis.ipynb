{
 "cells": [
  {
   "cell_type": "markdown",
   "id": "4ba87081",
   "metadata": {},
   "source": [
    "# Premier League Club Investment Analysis for an Investment company (EDA) \n",
    "\n",
    "**Domain: Sports**\n",
    "\n",
    "**Context:**\n",
    "    \n",
    "A renowned investment firm usually invest in top-tier sports teams that have potential. The dataset in their possession comprises crucial information about all the clubs that have participated in premier league. It includes data on the number of goals scored, the number of times they have finished in the top two positions and other relevant details.\n",
    "\n",
    "**Data:**\n",
    "Premier League Final Data.csv- : The data set contains information on all the clubs so far participated in all the premier league tournaments.\n",
    "\n",
    "**Data Dictionary:**\n",
    "\n",
    "* Club: Name of the football club\n",
    "* Matches: Number of matches the club has played in the Premier League\n",
    "* Wins: Number of matches won by the club in the Premier League\n",
    "* Loss: Number of matches lost by the club in the Premier League\n",
    "* Draws: Number of matches drawn by the club in the Premier League\n",
    "* Clean Sheets: Number of matches in which the club has prevented the opposing side from scoring\n",
    "* Team Launch: Year in which the club was founded\n",
    "* Winners: Number of times the club has won the Premier League\n",
    "* Runners-up: Number of times the club has finished as runners-up in the Premier League\n",
    "* lastplayed_pl: Year in which the team last played in the Premier League\n",
    "\n",
    "**Project Objective**\n",
    "\n",
    "The management of the firm aims to invest in one of the top-performing club in the English Premier League. To help in their decision-making process, the analytics department has been tasked with creating a comprehensive report on the performance of various clubs. However, some of the more established clubs have already been owned by the competitors. As a result, the firm wants to identify the clubs they can approach and potentially invest to ensure a successful and profitable deal.\n",
    "\n",
    "\n",
    "Note - This data is updated as of March'23"
   ]
  },
  {
   "cell_type": "markdown",
   "id": "e6e78305",
   "metadata": {},
   "source": [
    "**Key learning after this project:**\n",
    "\n",
    "- Data cleaning is the process of identifying and correcting or removing errors, inconsistencies, and inaccuracies in a dataset.\n",
    "- Observation writing involves examining the data and noting any notable findings, anomalies, or areas of interest.\n",
    "- Exploratory Data Analysis (EDA) is the process of examining and visualizing a dataset to understand its main characteristics, such as the distribution of data, the relationships between variables, and any anomalies or patterns that may exist. The goal of EDA is to uncover insights and trends that can help inform further analysis or decision-making. It is often the first step in any data analysis project, as it provides a foundation for more advanced statistical methods and models.\n"
   ]
  },
  {
   "cell_type": "code",
   "execution_count": null,
   "id": "5694aa3a",
   "metadata": {},
   "outputs": [],
   "source": [
    "# Import Libraries for data cleaning & data analysis\n",
    "\n",
    "import numpy as np \n",
    "import pandas as pd"
   ]
  },
  {
   "cell_type": "code",
   "execution_count": null,
   "id": "32e6b025",
   "metadata": {},
   "outputs": [],
   "source": [
    "# Get the csv file into python\n",
    "\n",
    "df = pd.read_csv(r'Premier_League_Final_Data.csv')"
   ]
  },
  {
   "cell_type": "markdown",
   "id": "a82a8ece",
   "metadata": {},
   "source": [
    "### Explore the Dataset"
   ]
  },
  {
   "cell_type": "code",
   "execution_count": null,
   "id": "c3dabf03",
   "metadata": {},
   "outputs": [],
   "source": [
    "# Displaying first 5 rows\n",
    "\n",
    "df.head()"
   ]
  },
  {
   "cell_type": "markdown",
   "id": "cbbcdbcc",
   "metadata": {},
   "source": [
    "Upon examining the dataset, we note that it consists of 11 columns, with the first column containing the club name and the remaining 10 columns providing information on the club's performance in the Premier League. However, the data is not entirely clean. The club column has numerical values attached to it, likely indicating a serial number, and the runners-up column has null values.\n",
    "\n",
    "Let us further analyze the dataset:"
   ]
  },
  {
   "cell_type": "code",
   "execution_count": null,
   "id": "e2c7bd60",
   "metadata": {},
   "outputs": [],
   "source": [
    "# Displaying Last 5 rows\n",
    "\n",
    "df.tail()"
   ]
  },
  {
   "cell_type": "markdown",
   "id": "002b9332",
   "metadata": {},
   "source": [
    "We notice inconsistencies in the TeamLaunch column. While most clubs have a year mentioned, one club has a month & year mentioned instead. This inconsistency may cause problems in the analysis, and the column should be cleaned. Furthermore, we observe that there are null values in the Winners column."
   ]
  },
  {
   "cell_type": "code",
   "execution_count": null,
   "id": "cf0d4315",
   "metadata": {},
   "outputs": [],
   "source": [
    "# Size of data\n",
    "\n",
    "df.shape"
   ]
  },
  {
   "cell_type": "markdown",
   "id": "33b3587b",
   "metadata": {},
   "source": [
    "There is 40 rows and 11 columns in the dataframe."
   ]
  },
  {
   "cell_type": "code",
   "execution_count": null,
   "id": "1f9dee85",
   "metadata": {},
   "outputs": [],
   "source": [
    "# Get more information about datatypes and null values in the dataframe\n",
    "\n",
    "df.info()"
   ]
  },
  {
   "cell_type": "markdown",
   "id": "b047aded",
   "metadata": {},
   "source": [
    "There are 40 non-null values in each column, indicating that there are no missing values. However, there are null values in the 'Winners' and 'Runners-up' columns as observed earlier. \n",
    "\n",
    "We also notice that the data type for the \"Runners-up\" column is non-numeric (i.e., object type). To perform any numerical analysis on this column, we will need to convert it to a numeric data type. "
   ]
  },
  {
   "cell_type": "markdown",
   "id": "e9704c55",
   "metadata": {},
   "source": [
    "### Clean the Dataset"
   ]
  },
  {
   "cell_type": "code",
   "execution_count": null,
   "id": "6d598904",
   "metadata": {},
   "outputs": [],
   "source": [
    "# Let us first start with Club column\n",
    "\n",
    "df['Club']= df['Club'].str.replace('\\d+', '')\n"
   ]
  },
  {
   "cell_type": "code",
   "execution_count": null,
   "id": "f546e1a3",
   "metadata": {},
   "outputs": [],
   "source": [
    "# View data\n",
    "\n",
    "df.head()"
   ]
  },
  {
   "cell_type": "markdown",
   "id": "d3b535cb",
   "metadata": {},
   "source": [
    "Now that the numbers have been removed from the front of each club name in the Club column, it has been cleaned and is ready to be used for analysis"
   ]
  },
  {
   "cell_type": "code",
   "execution_count": null,
   "id": "85d363b2",
   "metadata": {},
   "outputs": [],
   "source": [
    "df[\"Winners\"].isnull()"
   ]
  },
  {
   "cell_type": "code",
   "execution_count": null,
   "id": "45b64f8b",
   "metadata": {},
   "outputs": [],
   "source": [
    "# Next, let us look at \"Winners\" column. Check if there is null value in a alternative way\n",
    "df[\"Winners\"].isnull().any()\n"
   ]
  },
  {
   "cell_type": "markdown",
   "id": "e2c1fd06",
   "metadata": {},
   "source": [
    "In this code, the isnull() method is called on the \"Winners\" column of the DataFrame.\n",
    "isnull() returns a boolean Series where each element indicates whether the corresponding value in the column is null (True) or not (False). \n",
    "The any() method is then used to check if there is at least one True value in the Series, indicating the presence of null values in the \"Winners\" column."
   ]
  },
  {
   "cell_type": "code",
   "execution_count": null,
   "id": "ff89e298",
   "metadata": {
    "scrolled": true
   },
   "outputs": [],
   "source": [
    "df['Winners'].value_counts() \n",
    "\n",
    "# The code returns the count of unique values in the \"Winners\" column and the number of times each value occurs."
   ]
  },
  {
   "cell_type": "code",
   "execution_count": null,
   "id": "ff099845",
   "metadata": {},
   "outputs": [],
   "source": [
    "2022-1992"
   ]
  },
  {
   "cell_type": "code",
   "execution_count": null,
   "id": "c227cb0b",
   "metadata": {},
   "outputs": [],
   "source": [
    "1+1+1+3+5+6+13"
   ]
  },
  {
   "cell_type": "markdown",
   "id": "f5c12ccb",
   "metadata": {},
   "source": [
    "Upon inspecting the dataset, it can be observed that there are a total of 25 non-null values. Furthermore, it is noteworthy that out of the 18 football clubs listed, none of them have won the Premier League title, as the \"Winners\" column displays a count of 0 for each club. "
   ]
  },
  {
   "cell_type": "markdown",
   "id": "85219f89",
   "metadata": {},
   "source": [
    "After looking at the counts, it has been determined that there have been a total of 30 Premier League tournaments held in the past (1992-2022 per year one tournament). Out of the 25 football clubs (Non zero non nulls in winner columns) listed in the dataset, 3 clubs have won the Premier League title once, 1 club has won it thrice, 1 club has won it 5 times, another club has won it 6 times, and 1 club has won it a remarkable 13 times, totaling to 30 victories. \n",
    "\n",
    "This implies that all other clubs in the dataset have not won any Premier League matches. Therefore, it would be appropriate to update the \"Winners\" column by replacing the null values with 0, as these clubs have not won the Premier League title. This data cleaning step will ensure that the dataset accurately reflects the historical performance of each club in terms of Premier League wins."
   ]
  },
  {
   "cell_type": "code",
   "execution_count": null,
   "id": "67734fa7",
   "metadata": {},
   "outputs": [],
   "source": [
    "# Replace null values with 0 in the \"Winners\" column\n",
    "df[\"Winners\"].fillna(0, inplace=True)\n",
    "\n",
    "# .fillna(0, inplace=True) This is a method in pandas that is used to fill missing (null) values in a Series or DataFrame. \n",
    "# In this case, it is applied to the \"Winners\" column of the DataFrame df to fill any null values with the value 0."
   ]
  },
  {
   "cell_type": "code",
   "execution_count": null,
   "id": "3826d248",
   "metadata": {},
   "outputs": [],
   "source": [
    "# Check for null values in the \"Winners\" column after data cleaning\n",
    "df[\"Winners\"].isnull().any()"
   ]
  },
  {
   "cell_type": "code",
   "execution_count": null,
   "id": "f3e1e70f",
   "metadata": {},
   "outputs": [],
   "source": [
    "# Next, let us look at Runners-up, As seen earlier even this column has Null value\n",
    "\n",
    "df['Runners-up'].value_counts()"
   ]
  },
  {
   "cell_type": "markdown",
   "id": "3b13d7fa",
   "metadata": {},
   "source": [
    "Teams have different numbers of runner-up finishes. One team has finished as runner-up 7 times, another 6 times, one team 5 times, another 4 times, another 3 times, one team 2 times and three teams have finished as runner-up once each.\n",
    "We also notice some inconsistency in data,this column particularly has null values, 0's and '-' We need to clean"
   ]
  },
  {
   "cell_type": "code",
   "execution_count": null,
   "id": "67bf72d0",
   "metadata": {},
   "outputs": [],
   "source": [
    "# No. of runner-ups\n",
    "1+1+1+6+4+5+3+7+2"
   ]
  },
  {
   "cell_type": "code",
   "execution_count": null,
   "id": "47ee8269",
   "metadata": {},
   "outputs": [],
   "source": [
    "# Since we know the no. of times Premier League was conducted is 30 and we have data for all we will convert the null & '-' to 0 for all other clubs\n",
    "\n",
    "# replace '-' and null values with zero\n",
    "df['Runners-up'].fillna(0, inplace=True)\n",
    "df['Runners-up'].replace('-', 0, inplace=True)\n",
    "\n",
    "# replace() method is used to replace the \"-\" values with zero. The inplace=True argument is used to modify the original dataframe."
   ]
  },
  {
   "cell_type": "code",
   "execution_count": null,
   "id": "21b4ba72",
   "metadata": {},
   "outputs": [],
   "source": [
    "# Also we have seen it earlier that 'Runners-up' column is \"Object\" type let us convert it into int type\n",
    "df['Runners-up'] = pd.to_numeric(df['Runners-up'], errors='coerce')\n",
    "df['Runners-up'] = df['Runners-up'].astype('Int64')"
   ]
  },
  {
   "cell_type": "markdown",
   "id": "25a42db9",
   "metadata": {},
   "source": [
    "This code is converting the \"Runners-up\" column in a pandas DataFrame, df, from an \"Object\" data type to an \"Int64\" data type.\n",
    "\n",
    "The first line uses the pd.to_numeric() function to attempt to convert the \"Runners-up\" column to a numeric data type. The errors='coerce' argument tells the function to replace any values that cannot be converted to a number with NaN.\n",
    "\n",
    "The second line uses the .astype() method to convert the \"Runners-up\" column to an \"Int64\" data type. The .astype() method is called on the \"Runners-up\" column of the DataFrame, and the argument \"Int64\" specifies the desired data type."
   ]
  },
  {
   "cell_type": "code",
   "execution_count": null,
   "id": "fb372517",
   "metadata": {},
   "outputs": [],
   "source": [
    "# Check the datatype\n",
    "\n",
    "df.info()"
   ]
  },
  {
   "cell_type": "markdown",
   "id": "4d758e46",
   "metadata": {},
   "source": [
    "Now the runners up column is successfully converted to Integer."
   ]
  },
  {
   "cell_type": "code",
   "execution_count": null,
   "id": "109febd4",
   "metadata": {
    "scrolled": true
   },
   "outputs": [],
   "source": [
    "# We also observed TeamLaunch column has data inconsistency\n",
    "\n",
    "df['TeamLaunch'].value_counts()"
   ]
  },
  {
   "cell_type": "code",
   "execution_count": null,
   "id": "73969d13",
   "metadata": {},
   "outputs": [],
   "source": [
    "# We need to convert the 'TeamLaunch' into 'YYYY'\n",
    "\n",
    "# convert the column to datetime format\n",
    "df['TeamLaunch'] = pd.to_datetime(df['TeamLaunch'], errors='coerce')\n",
    "\n",
    "# convert the column to YYYY format\n",
    "df['TeamLaunch'] = df['TeamLaunch'].dt.strftime('%Y')"
   ]
  },
  {
   "cell_type": "markdown",
   "id": "c54b5afb",
   "metadata": {},
   "source": [
    "The first line of code converts the column 'column_name' to datetime format using the pandas to_datetime() function. The 'errors' parameter is set to 'coerce', which means that any invalid dates will be set to NaT (Not a Time) in the resulting datetime column.\n",
    "\n",
    "The second line of code uses the dt.strftime() method to convert the datetime column to a string column with only the year values. '%Y' is the format code for the year. This line of code will create a new column 'column_name' in the format YYYY."
   ]
  },
  {
   "cell_type": "code",
   "execution_count": null,
   "id": "fb993651",
   "metadata": {},
   "outputs": [],
   "source": [
    "df['TeamLaunch'].value_counts()"
   ]
  },
  {
   "cell_type": "code",
   "execution_count": null,
   "id": "5f2db423",
   "metadata": {},
   "outputs": [],
   "source": [
    "df['lastplayed_pl'].value_counts()"
   ]
  },
  {
   "cell_type": "code",
   "execution_count": null,
   "id": "84dcd964",
   "metadata": {},
   "outputs": [],
   "source": [
    "# Let us extract only the year in lastplayed_pl column\n",
    "df['lastplayed_pl'] = (pd.to_datetime(df['lastplayed_pl'], format='%b-%y', errors='coerce')).dt.year\n",
    "\n",
    "#The \"format\" parameter specifies the expected format of the input string. \n",
    "#In this case '%b-%y' which indicates a three-letter month abbreviation followed by a two-digit year (e.g. \"Mar-21\"). "
   ]
  },
  {
   "cell_type": "code",
   "execution_count": null,
   "id": "d76dbdf3",
   "metadata": {},
   "outputs": [],
   "source": [
    "df['lastplayed_pl']"
   ]
  },
  {
   "cell_type": "markdown",
   "id": "619d622a",
   "metadata": {},
   "source": [
    "### Exploratary Data Analysis"
   ]
  },
  {
   "cell_type": "code",
   "execution_count": null,
   "id": "ae0974f2",
   "metadata": {},
   "outputs": [],
   "source": [
    "# Calculate basic data summaries\n",
    "\n",
    "df.describe()"
   ]
  },
  {
   "cell_type": "markdown",
   "id": "06df2b8f",
   "metadata": {},
   "source": [
    "The average number of matches played by each team in the tournament is 573.75, while the mean number of goals scored by all teams is 769. However, the median number of goals scored is much lower at 462, indicating that some teams have scored significantly more goals than others. \n",
    "\n",
    "Interestingly, the median number of wins and runners-up positions are both 0, suggesting that most teams have not won or finished as runners-up in the tournament. However, there is one team that has won the tournament a remarkable 13 times and another team that has been the runners-up 7 times. It would be interesting to find out which teams these are."
   ]
  },
  {
   "cell_type": "code",
   "execution_count": null,
   "id": "fa6d7927",
   "metadata": {},
   "outputs": [],
   "source": [
    "# Team that has won Premier League 13 times\n",
    "df[df['Winners']==13]['Club']"
   ]
  },
  {
   "cell_type": "code",
   "execution_count": null,
   "id": "30aa5835",
   "metadata": {},
   "outputs": [],
   "source": [
    "# Team that has been runner-up 7 times\n",
    "df[df['Runners-up']==7]['Club']"
   ]
  },
  {
   "cell_type": "markdown",
   "id": "1a7442a8",
   "metadata": {},
   "source": [
    "We see that Manchester United has won Premier league 13 times and have been runner-up 7 times."
   ]
  },
  {
   "cell_type": "code",
   "execution_count": null,
   "id": "f6160272",
   "metadata": {},
   "outputs": [],
   "source": [
    "import matplotlib.pyplot as plt\n",
    "\n",
    "%matplotlib inline"
   ]
  },
  {
   "cell_type": "code",
   "execution_count": null,
   "id": "f8acf840",
   "metadata": {},
   "outputs": [],
   "source": [
    "# Let us visualize each column\n",
    "\n",
    "# First let us start with Matches Played column\n",
    "# plot histogram\n",
    "plt.hist(df['Matches Played'])\n",
    "\n",
    "# add labels and title\n",
    "plt.xlabel('No. of Matches Played')\n",
    "plt.ylabel('Frequency')\n",
    "plt.title('Histogram of Matches Played')"
   ]
  },
  {
   "cell_type": "markdown",
   "id": "40b3aca9",
   "metadata": {},
   "source": [
    "We can see from the histogram that a majority of teams have played less than 400 matches. However, there are a few teams that have played an exceptionally high number of matches, exceeding 900. \n",
    "\n",
    "As per the project requirements, it is worth noting that some of the more established clubs have already been owned by the competitors. Therefore, the client is interested in identifying potential clubs that may perform well in the future, even if they have less experience in the Premier League."
   ]
  },
  {
   "cell_type": "code",
   "execution_count": null,
   "id": "010aa950",
   "metadata": {},
   "outputs": [],
   "source": [
    "# Identify teams who have played more than 900 matches\n",
    "\n",
    "df[df['Matches Played']>=900]['Club']"
   ]
  },
  {
   "cell_type": "markdown",
   "id": "4b6114cd",
   "metadata": {},
   "source": [
    "Upon analysis, we have observed that there are a total of 11 clubs who have significantly more experience in the Premier League as compared to the others. These clubs have played a higher number of matches and have established themselves as experienced players in the league.\n",
    "\n",
    "As per the client's requirements, we are interested in identifying potential clubs that may perform well in the future, even if they have less experience in the Premier League. Therefore, we have decided to drop these 11 clubs from our analysis, as their established presence in the league may skew our results and make it difficult to identify less experienced clubs with high potential.\n",
    "\n",
    "By removing these clubs, we can focus our analysis on the remaining clubs and potentially identify hidden gems that may have been overlooked due to their lack of experience in the league."
   ]
  },
  {
   "cell_type": "code",
   "execution_count": null,
   "id": "60fef51c",
   "metadata": {},
   "outputs": [],
   "source": [
    "df[df['Matches Played'] < 900]"
   ]
  },
  {
   "cell_type": "code",
   "execution_count": null,
   "id": "1ed40bcd",
   "metadata": {},
   "outputs": [],
   "source": [
    "df = df[df['Matches Played'] < 900].reset_index(drop=True)"
   ]
  },
  {
   "cell_type": "code",
   "execution_count": null,
   "id": "db9cc759",
   "metadata": {},
   "outputs": [],
   "source": [
    "# view data\n",
    "\n",
    "df.head()"
   ]
  },
  {
   "cell_type": "code",
   "execution_count": null,
   "id": "0372a582",
   "metadata": {},
   "outputs": [],
   "source": [
    "# Shape of data\n",
    "\n",
    "df.shape"
   ]
  },
  {
   "cell_type": "code",
   "execution_count": null,
   "id": "a4e4bfb5",
   "metadata": {},
   "outputs": [],
   "source": [
    "# Now let us look at Win, Loss, Drawn, and clean sheets column"
   ]
  },
  {
   "cell_type": "markdown",
   "id": "805537f7",
   "metadata": {},
   "source": [
    "It is essential to understand that the values in all the columns represent the cumulative scores over all the matches played. \n",
    "\n",
    "To accurately analyze the performance of the teams, we must normalize the data by dividing the no. of wins, loss, drawn, clean sheet, goals by the number of matches played. \n",
    "\n",
    "This normalization will provide us with a fair idea of the winning, losing, draw, and clean sheet percentages of each team along with goals per match."
   ]
  },
  {
   "cell_type": "code",
   "execution_count": null,
   "id": "f974bbc4",
   "metadata": {},
   "outputs": [],
   "source": [
    "# Create new columns for Winning Rate, Loss Rate, Draw Rate, & Clean Sheet Rate\n",
    "df['Winning Rate'] = (df['Win'] / df['Matches Played'])*100\n",
    "df['Loss Rate'] = (df['Loss'] / df['Matches Played'])*100\n",
    "df['Drawn Rate'] = (df['Drawn'] / df['Matches Played'])*100\n",
    "df['Clean Sheet Rate'] = (df['Clean Sheets'] / df['Matches Played'])*100"
   ]
  },
  {
   "cell_type": "code",
   "execution_count": null,
   "id": "07222983",
   "metadata": {},
   "outputs": [],
   "source": [
    "# Create a column for average goals scored per match\n",
    "\n",
    "df['Avg Goals Per Match']=df['Goals']/df['Matches Played']\n",
    "\n",
    "df['Avg Goals Per Match']=df['Avg Goals Per Match'].round()"
   ]
  },
  {
   "cell_type": "code",
   "execution_count": null,
   "id": "75ddb4a5",
   "metadata": {},
   "outputs": [],
   "source": [
    "# View data\n",
    "df.head()"
   ]
  },
  {
   "cell_type": "markdown",
   "id": "dd118053",
   "metadata": {},
   "source": [
    "Our new columns are succesfully added in the dataframe"
   ]
  },
  {
   "cell_type": "code",
   "execution_count": null,
   "id": "779b0539",
   "metadata": {},
   "outputs": [],
   "source": [
    "# Now let us visualize Winning, Loss, Drawn rate, and Clean Sheet\n",
    "\n",
    "# Set the figure size\n",
    "plt.figure(figsize=(8, 6))\n",
    "\n",
    "# Create the boxplot\n",
    "boxplot = plt.boxplot([df['Winning Rate'], df['Drawn Rate'], df['Loss Rate'], df['Clean Sheet Rate']], \n",
    "                      patch_artist=True,\n",
    "                      labels=['Winning Rate', 'Drawn Rate', 'Loss Rate', 'Clean Sheet Rate'])\n",
    "\n",
    "# Set the title and axis labels\n",
    "plt.title('Distribution of Winning Rate, Drawn Rate, Loss Rate and Clean Sheet Rate')\n",
    "plt.xlabel('Winning, Drawn ,Lost Game & Clean Sheet')\n",
    "plt.ylabel('Rate')\n",
    "\n",
    "# Show the plot\n",
    "plt.show()"
   ]
  },
  {
   "cell_type": "markdown",
   "id": "c90e70c4",
   "metadata": {},
   "source": [
    "#### Winning Rate\n",
    "\n",
    "We observe that there are a few outliers in the Winning Rate boxplot, which are located above the upper whisker. It is safe to conclude that these outlier clubs have shown exceptional high winning rates compared to the other clubs. Let us identify them ahead.\n",
    "\n",
    "Also let us identify the club that has least \"Winning Rate\"\n",
    "\n",
    "#### Drawn Rate\n",
    "\n",
    "We observe an outlier in the drawn rate boxplot, indicating that there is one clubs has a much higher drawn rate compared to others. This may not necessarily be a positive indication, as it suggests that the club may struggle to secure wins in their matches. Going further let us identify which club is this.\n",
    "\n",
    "#### Loss Rate\n",
    "\n",
    "We can see very clearly that loss rates for these clubs are high compared to winning rate. \n",
    "\n",
    "#### Clean Sheet Rate\n",
    "\n",
    "We see that data for Clean Sheet rate is pretty symmetric."
   ]
  },
  {
   "cell_type": "code",
   "execution_count": null,
   "id": "5dc9277f",
   "metadata": {},
   "outputs": [],
   "source": [
    "# Winning Rate further analysis. Identify clubs with high winning rate\n",
    "\n",
    "# Calculate the interquartile range for the \"Winning Rate\" column\n",
    "Q1 = df['Winning Rate'].quantile(0.25)\n",
    "Q3 = df['Winning Rate'].quantile(0.75)\n",
    "IQR = Q3 - Q1\n",
    "\n",
    "# Calculate the upper boundaries for potential outliers <-- Expectional high winning rate compared to other teams\n",
    "upper_bound = Q3 + 1.5 * IQR\n",
    "\n",
    "# Identify the clubs with high winning rate \n",
    "highwinningrate = df[(df['Winning Rate'] > upper_bound)]\n",
    "highwinningrate"
   ]
  },
  {
   "cell_type": "markdown",
   "id": "926f2a07",
   "metadata": {},
   "source": [
    "Upon analyzing the data, we have found that two teams, Leeds United and Blackburn Rovers, have exceptionally high winning rates of 39% and 38% respectively."
   ]
  },
  {
   "cell_type": "code",
   "execution_count": null,
   "id": "51c678c1",
   "metadata": {},
   "outputs": [],
   "source": [
    "# Winning Rate further analysis. Identify club with low winning rate\n",
    "\n",
    "# Calculate the lower boundaries for potential outliers <-- Low winning rate compared to other teams\n",
    "lower_bound = Q1 - 1.5 * IQR\n",
    "\n",
    "# Identify the clubs with lowest winning rate \n",
    "lowwinningrate = df[(df['Winning Rate'] < lower_bound)]\n",
    "lowwinningrate"
   ]
  },
  {
   "cell_type": "markdown",
   "id": "2399c83b",
   "metadata": {},
   "source": [
    "Club is lowest winning rate of 22% is Hull City "
   ]
  },
  {
   "cell_type": "code",
   "execution_count": null,
   "id": "f0299db9",
   "metadata": {},
   "outputs": [],
   "source": [
    "# Drawn Rate further analysis. Identify club with high drawn rate\n",
    "# Calculate the interquartile range for the \"Drawn Rate\" column\n",
    "Q1 = df['Drawn Rate'].quantile(0.25)\n",
    "Q3 = df['Drawn Rate'].quantile(0.75)\n",
    "IQR = Q3 - Q1\n",
    "\n",
    "# Calculate the upper boundaries for potential outliers <-- Expectional high winning rate compared to other teams\n",
    "upper_bound = Q3 + 1.5 * IQR\n",
    "\n",
    "# Identify the clubs with high winning rate \n",
    "highwinningrate = df[(df['Drawn Rate'] > upper_bound)]\n",
    "highwinningrate"
   ]
  },
  {
   "cell_type": "markdown",
   "id": "4f2ff410",
   "metadata": {},
   "source": [
    "Brighton & Hove Albion is expectionally high Drawn Rate of 33%"
   ]
  },
  {
   "cell_type": "code",
   "execution_count": null,
   "id": "85a9313a",
   "metadata": {},
   "outputs": [],
   "source": [
    "# Now let us explore 'Avg Goals Per Match' column\n",
    "\n",
    "df['Avg Goals Per Match'].describe()"
   ]
  },
  {
   "cell_type": "markdown",
   "id": "a05df37a",
   "metadata": {},
   "source": [
    "As you can see we can't infer much from this metric. Therefore we will not use it for further analysis."
   ]
  },
  {
   "cell_type": "code",
   "execution_count": null,
   "id": "ef2d5c1b",
   "metadata": {},
   "outputs": [],
   "source": [
    "# Let us explore columns 'Winners' and 'Runners-up'\n",
    "\n",
    "df['Winners'].value_counts()"
   ]
  },
  {
   "cell_type": "code",
   "execution_count": null,
   "id": "d593446c",
   "metadata": {},
   "outputs": [],
   "source": [
    "df['Runners-up'].value_counts()"
   ]
  },
  {
   "cell_type": "markdown",
   "id": "f39cf312",
   "metadata": {},
   "source": [
    "We observe that out of the 29 clubs, only 2 clubs have won the Premier League, and one club has been a runner-up. Let us identify these clubs"
   ]
  },
  {
   "cell_type": "code",
   "execution_count": null,
   "id": "aed58280",
   "metadata": {},
   "outputs": [],
   "source": [
    "df[(df['Winners']==1) | (df['Runners-up']==1)] "
   ]
  },
  {
   "cell_type": "markdown",
   "id": "d73552c0",
   "metadata": {},
   "source": [
    "Blackburn Rovers have won Premier League once and been an Runners-up once and Leicester City has won Premier League once."
   ]
  },
  {
   "cell_type": "code",
   "execution_count": null,
   "id": "d0e1ea0e",
   "metadata": {},
   "outputs": [],
   "source": [
    "# Lets us again analyse Matches Played Column for our reduced dataframe (29 clubs).\n",
    "\n",
    "df['Matches Played'].describe()"
   ]
  },
  {
   "cell_type": "markdown",
   "id": "25fcd373",
   "metadata": {},
   "source": [
    "Average matches played are 372."
   ]
  },
  {
   "cell_type": "code",
   "execution_count": null,
   "id": "f3099170",
   "metadata": {
    "scrolled": true
   },
   "outputs": [],
   "source": [
    "# Let us look at \"lastplayed_pl\" column\n",
    "df['lastplayed_pl'].value_counts()"
   ]
  },
  {
   "cell_type": "markdown",
   "id": "21ae4ce4",
   "metadata": {},
   "source": [
    "Out of the total 29 teams, eight are currently playing in the Premier League. Since these teams are currently active in the league, it makes sense to prioritize them in our analysis. However, there are also teams that date back as early as 2000. It may be appropriate to assign these teams less weight."
   ]
  },
  {
   "cell_type": "code",
   "execution_count": null,
   "id": "360b6d2b",
   "metadata": {},
   "outputs": [],
   "source": [
    "# Let us check the eight teams that are currently playing in the Premier League\n",
    "\n",
    "df[df['lastplayed_pl']==2023]['Club']"
   ]
  },
  {
   "cell_type": "markdown",
   "id": "32d4d7cc",
   "metadata": {},
   "source": [
    "Giving more priority to teams that have more recent experience playing in the Premier League is ideal. When making the final decision, we will assign higher weight to teams that have played more recently, and lesser weight to those that have not played recently."
   ]
  },
  {
   "cell_type": "markdown",
   "id": "2a482ef1",
   "metadata": {},
   "source": [
    "###  Final Recommendations"
   ]
  },
  {
   "cell_type": "markdown",
   "id": "144e8f18",
   "metadata": {},
   "source": [
    "Let's create a plan to Score each team on the pre defined metric.\n",
    "\n",
    "* Give a score of 10 if club have a relatively high experience in the Premier League above average (372)\n",
    "* Give a score of 15 if club has winning rate above Q3\n",
    "* Give a score of 15 if club has lossing rate below Q1\n",
    "* Give a score of 10 if club drawn rate below Q1 and losing rate is below Q1\n",
    "* Give a score of 10 if club has clean sheet above Q3 and winning rate is above Q3\n",
    "* Give a score of 15 if club has won premier league\n",
    "* Give a score of 10 if club has been a runners-up in premier league\n",
    "* Give a score of 15 if club has been currently playing in premier league"
   ]
  },
  {
   "cell_type": "code",
   "execution_count": null,
   "id": "961f1b57",
   "metadata": {},
   "outputs": [],
   "source": [
    "# Calculate the upper bound for the \"Winning Rate\" column\n",
    "upper_bound_WinningRate = df['Winning Rate'].quantile(0.75)\n",
    "\n",
    "# Calculate the lower bound for the \"Loss Rate\" column\n",
    "lower_bound_LosingRate = df['Loss Rate'].quantile(0.25)\n",
    "\n",
    "# Calculate the lower bound for the \"Drawn Rate\" column\n",
    "lower_bound_DrawnRate = df['Drawn Rate'].quantile(0.25)\n",
    "\n",
    "# Calculate the upper bound for the \"Drawn Rate\" column\n",
    "upper_bound_CleanSheetRate = df['Clean Sheet Rate'].quantile(0.75)"
   ]
  },
  {
   "cell_type": "code",
   "execution_count": null,
   "id": "1c00e397",
   "metadata": {},
   "outputs": [],
   "source": [
    "len(df)"
   ]
  },
  {
   "cell_type": "code",
   "execution_count": null,
   "id": "c09d62f9",
   "metadata": {},
   "outputs": [],
   "source": [
    "df['scores']=np.zeros(len(df))"
   ]
  },
  {
   "cell_type": "code",
   "execution_count": null,
   "id": "62b62ba2",
   "metadata": {},
   "outputs": [],
   "source": [
    "df.head()"
   ]
  },
  {
   "cell_type": "code",
   "execution_count": null,
   "id": "d5c57fec",
   "metadata": {},
   "outputs": [],
   "source": [
    "df.loc[df['Matches Played'] >= 372, 'scores'] += 10\n",
    "df.loc[df['Winning Rate'] >= upper_bound_WinningRate, 'scores'] += 15\n",
    "df.loc[df['Loss Rate'] <= lower_bound_LosingRate, 'scores'] += 15\n",
    "df.loc[(df['Drawn Rate'] <= lower_bound_DrawnRate) & (df['Loss Rate'] <= lower_bound_LosingRate), 'scores'] += 10\n",
    "df.loc[(df['Clean Sheet Rate'] >= upper_bound_CleanSheetRate) & (df['Winning Rate'] >= upper_bound_WinningRate), 'scores'] += 10\n",
    "df.loc[df['Winners'] == 1, 'scores'] += 15\n",
    "df.loc[df['Runners-up'] == 1, 'scores'] += 10\n",
    "df.loc[df['lastplayed_pl'] == 2023, 'scores'] += 15"
   ]
  },
  {
   "cell_type": "code",
   "execution_count": null,
   "id": "cf54c47b",
   "metadata": {},
   "outputs": [],
   "source": [
    "# sort the DataFrame by score in descending order\n",
    "df_sort = df.sort_values(by='scores', ascending=False)\n",
    "\n",
    "# create a bar chart of team scores\n",
    "plt.figure(figsize=(25,10))\n",
    "plt.bar(df_sort['Club'], df_sort['scores'], color='blue')\n",
    "\n",
    "# add labels and title to the chart\n",
    "plt.ylabel('Scores', fontsize=16)\n",
    "plt.title('Football Club v/s performance score', fontsize=18)\n",
    "\n",
    "# add legend to explain the blue bars\n",
    "plt.legend(['Scores'], fontsize=14)\n",
    "\n",
    "# rotate the team names on the x-axis for readability\n",
    "plt.xticks(rotation=90, fontsize=14)\n",
    "plt.yticks(fontsize=14)\n",
    "\n",
    "# set the y-axis limit to start from 0 and end at 100\n",
    "plt.ylim(0, 100)\n",
    "\n",
    "# display the chart\n",
    "plt.show()"
   ]
  },
  {
   "cell_type": "markdown",
   "id": "20b4fe1a",
   "metadata": {},
   "source": [
    "**Based on the above chart, Blackburn Rovers has the highest score basis our analysis and next best Leicester City**"
   ]
  },
  {
   "cell_type": "markdown",
   "id": "3cb49b40",
   "metadata": {},
   "source": [
    "To ensure a thorough evaluation of football club performance we must consider clubs current form.\n",
    "\n",
    "Let us check the score of those clubs that have played in the last three years. Specifically, suggest including clubs that have played in 2023, as well as those that last played in 2022 and 2021. \n",
    "\n",
    "This approach allows us to pinpoint those clubs that are currently in good form and have consistently performed well over the past few years."
   ]
  },
  {
   "cell_type": "code",
   "execution_count": null,
   "id": "3c04f95e",
   "metadata": {},
   "outputs": [],
   "source": [
    "# sort the DataFrame by score in descending order\n",
    "df_sort = df[(df['lastplayed_pl']==2023) | (df['lastplayed_pl']==2022) | (df['lastplayed_pl']==2021)].sort_values(by='scores', ascending=False)\n",
    "\n",
    "# create a bar chart of team scores\n",
    "plt.figure(figsize=(25,10))\n",
    "plt.bar(df_sort['Club'], df_sort['scores'], color='blue')\n",
    "\n",
    "# add labels and title to the chart\n",
    "plt.ylabel('Scores', fontsize=16)\n",
    "plt.title('Football Club v/s performance score', fontsize=18)\n",
    "\n",
    "# add legend to explain the blue bars\n",
    "plt.legend(['Scores'], fontsize=14)\n",
    "\n",
    "# rotate the team names on the x-axis for readability\n",
    "plt.xticks(rotation=90, fontsize=14)\n",
    "plt.yticks(fontsize=14)\n",
    "\n",
    "# set the y-axis limit to start from 0 and end at 100\n",
    "plt.ylim(0, 100)\n",
    "\n",
    "# display the chart\n",
    "plt.show()"
   ]
  },
  {
   "cell_type": "markdown",
   "id": "531c136a",
   "metadata": {},
   "source": [
    "Upon closer examination of the list, we can observe that our current leader, Blackburn Rovers, is not included. To gain a better understanding of their performance, it's necessary to investigate further and determine the last year in which Blackburn Rovers played. This information will provide crucial context to our analysis and enable us to assess their recent form accurately. "
   ]
  },
  {
   "cell_type": "code",
   "execution_count": null,
   "id": "9b7e0ba4",
   "metadata": {},
   "outputs": [],
   "source": [
    "df[df['Club']=='Blackburn Rovers']['lastplayed_pl']"
   ]
  },
  {
   "cell_type": "markdown",
   "id": "ed5bc4c3",
   "metadata": {},
   "source": [
    "Blackburn Rovers last played in the tournament in 2012, which was quite some time ago. Given this information, we recommend that stakeholders consider investing in Leicester City instead. We believe that Leicester City's recent form and performance make them a better choice for investment.\n",
    "\n",
    "To support our claim, we will conduct further secondary research to provide additional evidence of Leicester City's current form and potential for success"
   ]
  },
  {
   "cell_type": "markdown",
   "id": "b9281615",
   "metadata": {},
   "source": [
    "According to our research, Blackburn Rovers were relegated to the Championship league in 2012 i.e., league below Premier League and later to League One in 2017 i.e., league below Championship league. However, they were promoted back to the Championship in 2018 and have since finished in the middle of the table in recent years. Given their inconsistent performance and lack of presence in the Premier League since 2012, it would be inappropriate to recommend this club for investment.\n",
    "\n",
    "On the other hand, Leicester City, the 2016 Premier League champions, have consistently finished in the top 10 in recent years. They placed 5th in both the 2019-2020 and 2020-2021 seasons and finished 8th in 2021-2022. Leicester City has the potential to achieve even greater success in the near future. Therefore, it would be reasonable to recommend Leicester City to our clients.\n",
    "\n",
    "*Source 1: https://www.transfermarkt.co.in/blackburn-rovers/platzierungen/verein/164*\n",
    "\n",
    "*Source 2: https://www.transfermarkt.co.in/leicester-city/platzierungen/verein/1003*"
   ]
  },
  {
   "cell_type": "markdown",
   "id": "47c5cb30",
   "metadata": {},
   "source": [
    "### We recommend investing in Leicester City based on our analysis"
   ]
  }
 ],
 "metadata": {
  "kernelspec": {
   "display_name": "Python 3 (ipykernel)",
   "language": "python",
   "name": "python3"
  },
  "language_info": {
   "codemirror_mode": {
    "name": "ipython",
    "version": 3
   },
   "file_extension": ".py",
   "mimetype": "text/x-python",
   "name": "python",
   "nbconvert_exporter": "python",
   "pygments_lexer": "ipython3",
   "version": "3.11.4"
  }
 },
 "nbformat": 4,
 "nbformat_minor": 5
}
